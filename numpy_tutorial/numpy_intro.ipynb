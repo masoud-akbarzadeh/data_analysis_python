{
 "cells": [
  {
   "cell_type": "markdown",
   "source": [
    "# Numpy introduction: basics"
   ],
   "metadata": {
    "collapsed": false
   },
   "id": "a2047f863ffb59a4"
  },
  {
   "cell_type": "markdown",
   "source": [
    "Numpy is a library for the Python programming language, adding support for large, multi-dimensional arrays and matrices, along with a large collection of high-level mathematical functions to operate on these arrays."
   ],
   "metadata": {
    "collapsed": false
   },
   "id": "99d3efd3c15ae206"
  },
  {
   "cell_type": "markdown",
   "source": [
    "# import"
   ],
   "metadata": {
    "collapsed": false
   },
   "id": "6468cf907d1edb79"
  },
  {
   "cell_type": "code",
   "execution_count": 78,
   "id": "initial_id",
   "metadata": {
    "collapsed": true,
    "ExecuteTime": {
     "end_time": "2024-02-23T03:51:31.661561500Z",
     "start_time": "2024-02-23T03:51:31.595130400Z"
    }
   },
   "outputs": [],
   "source": [
    "# Import numpy\n",
    "import numpy as np"
   ]
  },
  {
   "cell_type": "markdown",
   "source": [
    "# Create an array"
   ],
   "metadata": {
    "collapsed": false
   },
   "id": "84d152686596d747"
  },
  {
   "cell_type": "code",
   "outputs": [
    {
     "name": "stdout",
     "output_type": "stream",
     "text": [
      "[1 2 3]\n",
      "---- \n",
      "[[1 2 3]\n",
      " [4 5 6]]\n",
      "---- \n",
      "[[[ 1  2  3]\n",
      "  [ 4  5  6]]\n",
      "\n",
      " [[ 7  8  9]\n",
      "  [10 11 12]]]\n"
     ]
    }
   ],
   "source": [
    "# Create a 1D array\n",
    "a = np.array([1, 2, 3])\n",
    "print(a)\n",
    "\n",
    "# Create a 2D array\n",
    "b = np.array([[1, 2, 3], [4, 5, 6]])\n",
    "print(f'---- \\n{b}')\n",
    "\n",
    "# Create a 3D array\n",
    "c = np.array([[[1, 2, 3], [4, 5, 6]], [[7, 8, 9], [10, 11, 12]]])\n",
    "print(f'---- \\n{c}')"
   ],
   "metadata": {
    "collapsed": false,
    "ExecuteTime": {
     "end_time": "2024-02-23T03:51:31.687842200Z",
     "start_time": "2024-02-23T03:51:31.666054300Z"
    }
   },
   "id": "f706c721597ab2ba",
   "execution_count": 79
  },
  {
   "cell_type": "code",
   "outputs": [],
   "source": [
    "# Create an array of zeros, ones, random numbers, and evenly spaced values"
   ],
   "metadata": {
    "collapsed": false,
    "ExecuteTime": {
     "end_time": "2024-02-23T03:51:31.704940500Z",
     "start_time": "2024-02-23T03:51:31.689964800Z"
    }
   },
   "id": "50282a2d15c8ce29",
   "execution_count": 80
  },
  {
   "cell_type": "code",
   "outputs": [
    {
     "name": "stdout",
     "output_type": "stream",
     "text": [
      "[[0. 0. 0.]\n",
      " [0. 0. 0.]]\n",
      "[[1. 1.]\n",
      " [1. 1.]\n",
      " [1. 1.]\n",
      " [1. 1.]\n",
      " [1. 1.]]\n"
     ]
    }
   ],
   "source": [
    "# Create an array of zeros\n",
    "d = np.zeros((2, 3))\n",
    "print(d)\n",
    "\n",
    "# Create an array of ones\n",
    "e = np.ones((5, 2))\n",
    "print(e)\n",
    "\n"
   ],
   "metadata": {
    "collapsed": false,
    "ExecuteTime": {
     "end_time": "2024-02-23T03:51:31.743901100Z",
     "start_time": "2024-02-23T03:51:31.708938800Z"
    }
   },
   "id": "7724d71bdc8d7ee3",
   "execution_count": 81
  },
  {
   "cell_type": "markdown",
   "source": [
    "# Create an array of random numbers\n",
    "The difference between random.random and random.rand is teh way the input is passed. random.random takes a tuple as input, while random.rand takes the dimensions as separate arguments."
   ],
   "metadata": {
    "collapsed": false
   },
   "id": "516d2d1d33accafd"
  },
  {
   "cell_type": "code",
   "outputs": [
    {
     "name": "stdout",
     "output_type": "stream",
     "text": [
      "----\n",
      " np.random.random: \n",
      "[[0.55387158 0.10416422 0.90199822]\n",
      " [0.42793358 0.0976743  0.89395382]]\n",
      "----\n",
      " np.random.rand: \n",
      "[[0.50261658 0.62136887 0.97250599]\n",
      " [0.86782037 0.9122305  0.48216332]]\n"
     ]
    }
   ],
   "source": [
    "# Create an array of random numbers (between 0 and 1) with uniform distribution\n",
    "f = np.random.random((2, 3)) # random numbers between 0 and 1 # 2x3 array # random.random is a method of the random module in Python, and it generates a random float between 0 and 1.\n",
    "print(f'----\\n np.random.random: \\n{f}')\n",
    "# Other ways to create random numbers\n",
    "f_1 = np.random.rand(2, 3) # random numbers between 0 and 1 # 2x3 array \n",
    "print(f'----\\n np.random.rand: \\n{f_1}')"
   ],
   "metadata": {
    "collapsed": false,
    "ExecuteTime": {
     "end_time": "2024-02-23T03:51:31.743901100Z",
     "start_time": "2024-02-23T03:51:31.714317800Z"
    }
   },
   "id": "9e1465f4674533",
   "execution_count": 82
  },
  {
   "cell_type": "markdown",
   "source": [
    "Create an array of random numbers with normal distribution"
   ],
   "metadata": {
    "collapsed": false
   },
   "id": "751c6db1579a16f9"
  },
  {
   "cell_type": "code",
   "outputs": [
    {
     "name": "stdout",
     "output_type": "stream",
     "text": [
      "----\n",
      " np.random.randn: \n",
      "[[-0.6367421   0.01457499  0.0166641 ]\n",
      " [ 0.71811083  0.76500268 -0.8846959 ]]\n"
     ]
    }
   ],
   "source": [
    "f_2 = np.random.randn(2, 3) # random numbers from a normal distribution # 2x3 array\n",
    "print(f'----\\n np.random.randn: \\n{f_2}')"
   ],
   "metadata": {
    "collapsed": false,
    "ExecuteTime": {
     "end_time": "2024-02-23T03:51:31.745209500Z",
     "start_time": "2024-02-23T03:51:31.719812100Z"
    }
   },
   "id": "a57d5bc86ff4b3ea",
   "execution_count": 83
  },
  {
   "cell_type": "markdown",
   "source": [
    "Create an array of random integers"
   ],
   "metadata": {
    "collapsed": false
   },
   "id": "b5841de589374eef"
  },
  {
   "cell_type": "code",
   "outputs": [
    {
     "name": "stdout",
     "output_type": "stream",
     "text": [
      "----\n",
      " np.random.randint: \n",
      "[[70 65 37]\n",
      " [87 55 95]]\n"
     ]
    }
   ],
   "source": [
    "f_3 = np.random.randint(1, 100, (2, 3)) # random integers between 1 and 100 # 2x3 array\n",
    "print(f'----\\n np.random.randint: \\n{f_3}')"
   ],
   "metadata": {
    "collapsed": false,
    "ExecuteTime": {
     "end_time": "2024-02-23T03:51:31.746236400Z",
     "start_time": "2024-02-23T03:51:31.725636500Z"
    }
   },
   "id": "88fe52a0f457eb4b",
   "execution_count": 84
  },
  {
   "cell_type": "markdown",
   "source": [
    "Create an array of random choice"
   ],
   "metadata": {
    "collapsed": false
   },
   "id": "5a72190c9a1f8942"
  },
  {
   "cell_type": "code",
   "outputs": [
    {
     "name": "stdout",
     "output_type": "stream",
     "text": [
      "----\n",
      " np.random.choice: \n",
      "[[1.  1.  5.5]\n",
      " [5.5 1.  1. ]]\n"
     ]
    }
   ],
   "source": [
    "f_4 = np.random.choice([1, 5.5, 2*np.pi, 1e2], (2, 3)) # random choice from a list # 2x3 array\n",
    "print(f'----\\n np.random.choice: \\n{f_4}')"
   ],
   "metadata": {
    "collapsed": false,
    "ExecuteTime": {
     "end_time": "2024-02-23T03:51:31.746236400Z",
     "start_time": "2024-02-23T03:51:31.727921800Z"
    }
   },
   "id": "65f2ae5e9ceab941",
   "execution_count": 85
  },
  {
   "cell_type": "markdown",
   "source": [
    "# arange, linspace, eye"
   ],
   "metadata": {
    "collapsed": false
   },
   "id": "5f9609f6e71a0e1a"
  },
  {
   "cell_type": "code",
   "outputs": [
    {
     "name": "stdout",
     "output_type": "stream",
     "text": [
      "[0 1 2 3 4 5 6 7 8 9]\n",
      "[12 15 18 21 24 27]\n",
      "<class 'numpy.ndarray'>\n",
      "<class 'numpy.int32'>\n"
     ]
    }
   ],
   "source": [
    "# Create an array of evenly spaced values (arange)\n",
    "g = np.arange(10) # 10 is not included but 0 is included\n",
    "h = np.arange(12, 30, 3) # start, stop, step # stop is not included\n",
    "print(g)\n",
    "print(h)\n",
    "print(type(g))\n",
    "print(type(g[0]))"
   ],
   "metadata": {
    "collapsed": false,
    "ExecuteTime": {
     "end_time": "2024-02-23T03:51:31.746236400Z",
     "start_time": "2024-02-23T03:51:31.733883700Z"
    }
   },
   "id": "abb60ad646d8e151",
   "execution_count": 86
  },
  {
   "cell_type": "code",
   "outputs": [
    {
     "name": "stdout",
     "output_type": "stream",
     "text": [
      "[0.   0.25 0.5  0.75 1.   1.25 1.5  1.75 2.  ]\n",
      "<class 'numpy.ndarray'>\n",
      "<class 'numpy.float64'>\n",
      "[0.         0.6981317  1.3962634  2.0943951  2.7925268  3.4906585\n",
      " 4.1887902  4.88692191 5.58505361 6.28318531]\n"
     ]
    }
   ],
   "source": [
    "# Create an array of evenly spaced values\n",
    "i = np.linspace(0, 2, 9) # start, stop, number of points\n",
    "print(i)\n",
    "print(type(i))\n",
    "print(type(i[0]))\n",
    "\n",
    "# Create an array of evenly spaced values\n",
    "j = np.linspace(0, 2*np.pi, 10) # start, stop, number of points\n",
    "print(j)\n",
    "print()\n",
    "# The difference between linspace and arange is that linspace returns the number of points you want, while arange returns the step size you want.\n",
    "# linspace is more useful when you know how many points you want, and arange is more useful when you know what step size you want.\n",
    "# also, linspace is inclusive of the stop value, while arange is not.\n",
    "# linspace outputs a float array, while arange outputs an int array."
   ],
   "metadata": {
    "collapsed": false,
    "ExecuteTime": {
     "end_time": "2024-02-23T03:51:31.839270400Z",
     "start_time": "2024-02-23T03:51:31.750526600Z"
    }
   },
   "id": "59f1161ae26068de",
   "execution_count": 87
  },
  {
   "cell_type": "code",
   "outputs": [
    {
     "name": "stdout",
     "output_type": "stream",
     "text": [
      "[[1. 0. 0.]\n",
      " [0. 1. 0.]\n",
      " [0. 0. 1.]]\n"
     ]
    }
   ],
   "source": [
    "# Create an array of evenly spaced values\n",
    "k = np.eye(3) # 3x3 identity matrix\n",
    "print(k)"
   ],
   "metadata": {
    "collapsed": false,
    "ExecuteTime": {
     "end_time": "2024-02-23T03:51:31.877004600Z",
     "start_time": "2024-02-23T03:51:31.841765300Z"
    }
   },
   "id": "bca1661dd5653685",
   "execution_count": 88
  },
  {
   "cell_type": "markdown",
   "source": [
    "# Reshape"
   ],
   "metadata": {
    "collapsed": false
   },
   "id": "61d16e360f5052bb"
  },
  {
   "cell_type": "code",
   "outputs": [
    {
     "name": "stdout",
     "output_type": "stream",
     "text": [
      "[[0 1 2]\n",
      " [3 4 5]]\n"
     ]
    }
   ],
   "source": [
    "# Reshape an array # The new shape should be compatible with the original shape it means the number of elements should be the same in both shapes\n",
    "l = np.arange(6).reshape(2, 3)\n",
    "print(l)\n"
   ],
   "metadata": {
    "collapsed": false,
    "ExecuteTime": {
     "end_time": "2024-02-23T03:51:31.937003Z",
     "start_time": "2024-02-23T03:51:31.878129200Z"
    }
   },
   "id": "945c074a2778c084",
   "execution_count": 89
  },
  {
   "cell_type": "code",
   "outputs": [
    {
     "name": "stdout",
     "output_type": "stream",
     "text": [
      "[[[ 0  1  2  3]\n",
      "  [ 4  5  6  7]\n",
      "  [ 8  9 10 11]]\n",
      "\n",
      " [[12 13 14 15]\n",
      "  [16 17 18 19]\n",
      "  [20 21 22 23]]]\n"
     ]
    }
   ],
   "source": [
    "# Reshape an array\n",
    "m = np.arange(24).reshape(2, 3, 4)\n",
    "print(m)"
   ],
   "metadata": {
    "collapsed": false,
    "ExecuteTime": {
     "end_time": "2024-02-23T03:51:31.957037100Z",
     "start_time": "2024-02-23T03:51:31.940288200Z"
    }
   },
   "id": "53bd2909b0a2fd9b",
   "execution_count": 90
  },
  {
   "cell_type": "markdown",
   "source": [
    "# Basic operations"
   ],
   "metadata": {
    "collapsed": false
   },
   "id": "96b3ec7561a01fec"
  },
  {
   "cell_type": "code",
   "outputs": [
    {
     "name": "stdout",
     "output_type": "stream",
     "text": [
      "[20 30 40 50]\n",
      "[0 1 2 3]\n",
      "[20 29 38 47]\n",
      "[0 1 4 9]\n",
      "[ 9.12945251 -9.88031624  7.4511316  -2.62374854]\n",
      "[ True  True False False]\n"
     ]
    }
   ],
   "source": [
    "# Basic operations\n",
    "n = np.array([20, 30, 40, 50])\n",
    "o = np.arange(4)\n",
    "print(n)\n",
    "print(o)\n",
    "print(n - o)\n",
    "print(o**2)\n",
    "print(10 * np.sin(n))\n",
    "print(n < 35)"
   ],
   "metadata": {
    "collapsed": false,
    "ExecuteTime": {
     "end_time": "2024-02-23T03:51:31.982899600Z",
     "start_time": "2024-02-23T03:51:31.961262700Z"
    }
   },
   "id": "c1eef4256e7e65b2",
   "execution_count": 91
  },
  {
   "cell_type": "markdown",
   "source": [
    "# Matrix multiplication"
   ],
   "metadata": {
    "collapsed": false
   },
   "id": "1232a191e44f9c75"
  },
  {
   "cell_type": "code",
   "outputs": [
    {
     "name": "stdout",
     "output_type": "stream",
     "text": [
      "[[1 1]\n",
      " [0 1]]\n",
      "[[2 0]\n",
      " [3 4]]\n",
      "-------\n",
      " elementwise product p*q: \n",
      "[[2 0]\n",
      " [0 4]]\n",
      "-------\n",
      " matrix product p@q: \n",
      "[[5 4]\n",
      " [3 4]]\n",
      "-------\n",
      " another matrix product p.dot(q): \n",
      "[[5 4]\n",
      " [3 4]]\n"
     ]
    }
   ],
   "source": [
    "# Matrix multiplication\n",
    "p = np.array([[1, 1], [0, 1]])\n",
    "q = np.array([[2, 0], [3, 4]])\n",
    "print(p)\n",
    "print(q)\n",
    "print(f'-------\\n elementwise product p*q: \\n{p * q}') # elementwise product\n",
    "print(f'-------\\n matrix product p@q: \\n{p @ q}') # matrix product\n",
    "print(f'-------\\n another matrix product p.dot(q): \\n{p.dot(q)}') # another matrix product"
   ],
   "metadata": {
    "collapsed": false,
    "ExecuteTime": {
     "end_time": "2024-02-23T03:51:32.022104800Z",
     "start_time": "2024-02-23T03:51:31.984981100Z"
    }
   },
   "id": "efbc20a0367921a3",
   "execution_count": 92
  },
  {
   "cell_type": "markdown",
   "source": [],
   "metadata": {
    "collapsed": false
   },
   "id": "eec89aaddf0d417e"
  }
 ],
 "metadata": {
  "kernelspec": {
   "display_name": "Python 3",
   "language": "python",
   "name": "python3"
  },
  "language_info": {
   "codemirror_mode": {
    "name": "ipython",
    "version": 2
   },
   "file_extension": ".py",
   "mimetype": "text/x-python",
   "name": "python",
   "nbconvert_exporter": "python",
   "pygments_lexer": "ipython2",
   "version": "2.7.6"
  }
 },
 "nbformat": 4,
 "nbformat_minor": 5
}
